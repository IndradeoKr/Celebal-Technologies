{
 "cells": [
  {
   "cell_type": "code",
   "execution_count": 1,
   "id": "b19947bc-05af-4d1a-96a2-6c884e180f05",
   "metadata": {},
   "outputs": [
    {
     "name": "stdout",
     "output_type": "stream",
     "text": [
      "Simple Calculator\n",
      "1. Addition\n",
      "2. Subtraction\n",
      "3. Multiplication\n",
      "4. Division\n"
     ]
    },
    {
     "name": "stdin",
     "output_type": "stream",
     "text": [
      "Choose operation(1/2/3/4):  1\n",
      "Enter first number:  12\n",
      "Enter second number:  12\n"
     ]
    },
    {
     "name": "stdout",
     "output_type": "stream",
     "text": [
      "The result is:  24.0\n"
     ]
    }
   ],
   "source": [
    "def calculator():\n",
    "    print(\"Simple Calculator\")\n",
    "    print(\"1. Addition\")\n",
    "    print(\"2. Subtraction\")\n",
    "    print(\"3. Multiplication\")\n",
    "    print(\"4. Division\")\n",
    "\n",
    "    choice = input(\"Choose operation(1/2/3/4): \")\n",
    "\n",
    "    num1 = float(input(\"Enter first number: \"))\n",
    "    num2 = float(input(\"Enter second number: \"))\n",
    "\n",
    "    if choice == '1':\n",
    "        print(\"The result is: \", num1 + num2)\n",
    "    elif choice == '2':\n",
    "        print(\"The result is: \", num1 - num2)\n",
    "    elif choice == '3':\n",
    "        print(\"The result is: \", num1 * num2)\n",
    "    elif choice == '4':\n",
    "        if num2 != 0:\n",
    "            print(\"The result is: \", num1 / num2)\n",
    "        else:\n",
    "            print(\"Error: Division by zero is not allowed\")\n",
    "    else:\n",
    "        print(\"Invalid input\")\n",
    "\n",
    "# Run the calculator\n",
    "calculator()"
   ]
  }
 ],
 "metadata": {
  "kernelspec": {
   "display_name": "Python 3 (ipykernel)",
   "language": "python",
   "name": "python3"
  },
  "language_info": {
   "codemirror_mode": {
    "name": "ipython",
    "version": 3
   },
   "file_extension": ".py",
   "mimetype": "text/x-python",
   "name": "python",
   "nbconvert_exporter": "python",
   "pygments_lexer": "ipython3",
   "version": "3.11.4"
  }
 },
 "nbformat": 4,
 "nbformat_minor": 5
}
