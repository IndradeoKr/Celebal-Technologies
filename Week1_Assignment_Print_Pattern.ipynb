{
 "cells": [
  {
   "cell_type": "code",
   "execution_count": 1,
   "id": "463adc70-abfc-4eb5-a117-c5eb43241b2d",
   "metadata": {},
   "outputs": [
    {
     "name": "stdout",
     "output_type": "stream",
     "text": [
      "\n",
      "Lower Triangular\n",
      "\n",
      "*         \n",
      "* *       \n",
      "* * *     \n",
      "* * * *   \n",
      "* * * * * \n",
      "\n",
      "Upper Triangular\n",
      "\n",
      "* * * * * \n",
      "  * * * * \n",
      "    * * * \n",
      "      * * \n",
      "        * \n",
      "\n",
      "Pyramid\n",
      "\n",
      "        *           \n",
      "      * * *         \n",
      "    * * * * *       \n",
      "  * * * * * * *     \n",
      "* * * * * * * * *   \n",
      "\n"
     ]
    }
   ],
   "source": [
    "def Lower_triangular(n):\n",
    "    for i in range(n):\n",
    "        for j in range(n):\n",
    "            if j<=i:\n",
    "                print(\"* \",end=\"\")\n",
    "            else:\n",
    "                print(\"  \",end=\"\")\n",
    "        print()\n",
    "    print()\n",
    "\n",
    "def Upper_triangular(n):\n",
    "    for i in range(n):\n",
    "        for j in range(n):\n",
    "            if i<=j:\n",
    "                print(\"* \",end=\"\")\n",
    "            else:\n",
    "                print(\"  \",end=\"\")\n",
    "        print()\n",
    "    print()\n",
    "\n",
    "\n",
    "def Pyramid(n):\n",
    "    for i in range(n):\n",
    "        for j in range(2*n):\n",
    "            if i+j>=n-1 and i-j>=-n+1:\n",
    "                print(\"* \",end=\"\")\n",
    "            else:\n",
    "                print(\"  \",end=\"\")\n",
    "        print()\n",
    "    print()\n",
    "\n",
    "\n",
    "n=int(input(\"Enter a number:- \"))\n",
    "print()\n",
    "\n",
    "print(\"Lower Triangular\\n\")\n",
    "Lower_triangular(n)\n",
    "\n",
    "print(\"Upper Triangular\\n\")\n",
    "Upper_triangular(n)\n",
    "\n",
    "print(\"Pyramid\\n\")\n",
    "Pyramid(n)"
   ]
  },
  {
   "cell_type": "code",
   "execution_count": null,
   "id": "86a79c61-ac99-49fe-9277-e4aa780cab54",
   "metadata": {},
   "outputs": [],
   "source": []
  }
 ],
 "metadata": {
  "kernelspec": {
   "display_name": "Python 3 (ipykernel)",
   "language": "python",
   "name": "python3"
  },
  "language_info": {
   "codemirror_mode": {
    "name": "ipython",
    "version": 3
   },
   "file_extension": ".py",
   "mimetype": "text/x-python",
   "name": "python",
   "nbconvert_exporter": "python",
   "pygments_lexer": "ipython3",
   "version": "3.11.4"
  }
 },
 "nbformat": 4,
 "nbformat_minor": 5
}
